{
  "nbformat": 4,
  "nbformat_minor": 0,
  "metadata": {
    "colab": {
      "provenance": [],
      "authorship_tag": "ABX9TyM060rmFnqzj/qDbUXC267f",
      "include_colab_link": true
    },
    "kernelspec": {
      "name": "python3",
      "display_name": "Python 3"
    },
    "language_info": {
      "name": "python"
    }
  },
  "cells": [
    {
      "cell_type": "markdown",
      "metadata": {
        "id": "view-in-github",
        "colab_type": "text"
      },
      "source": [
        "<a href=\"https://colab.research.google.com/github/elizabethl03/AI-Signature-Recognition/blob/main/SignatureDetection.ipynb\" target=\"_parent\"><img src=\"https://colab.research.google.com/assets/colab-badge.svg\" alt=\"Open In Colab\"/></a>"
      ]
    },
    {
      "cell_type": "code",
      "execution_count": 16,
      "metadata": {
        "id": "Jvl03wBBCcQy"
      },
      "outputs": [],
      "source": [
        "# imports\n",
        "\n",
        "import numpy as np\n",
        "from skimage.filters import threshold_otsu # for converting to binary & image processing\n",
        "from scipy import ndimage # image processing for conversion to binary\n",
        "import matplotlib.image as mpimg # use to read image into array in preprocessing\n",
        "import matplotlib.cm as cm\n",
        "import matplotlib\n",
        "import matplotlib.pyplot as plt\n",
        "import pandas as ps\n",
        "import tensorflow\n",
        "import os\n",
        "\n",
        "from google.colab import drive\n",
        "\n",
        "import numpy as np\n",
        "import os\n",
        "import matplotlib\n",
        "import matplotlib.pyplot as plt\n",
        "import matplotlib.image as mpimg\n",
        "import matplotlib.cm as cm\n",
        "from scipy import ndimage\n",
        "from skimage.measure import regionprops\n",
        "from skimage import io\n",
        "from skimage.filters import threshold_otsu   # For finding the threshold for grayscale to binary conversion\n",
        "import tensorflow as tf\n",
        "import pandas as pd\n",
        "import numpy as np\n",
        "from time import time\n",
        "import keras\n",
        "from tensorflow.python.framework import ops\n",
        "import tensorflow.compat.v1 as tf"
      ]
    },
    {
      "cell_type": "code",
      "source": [
        "real_sigs = '/content/drive/My Drive/elink-CSE30124-Fall2023-submissions/Final Project/Signatures/Real'\n",
        "forged_sigs = '/content/drive/My Drive/elink-CSE30124-Fall2023-submissions/Final Project/Signatures/Forged'"
      ],
      "metadata": {
        "id": "S0X_-cpHbF2D"
      },
      "execution_count": 35,
      "outputs": []
    },
    {
      "cell_type": "code",
      "source": [
        "# normalize color and convert to greyscale to account for different color signatures\n",
        "\n",
        "def convertcolor(img):\n",
        "  g = np.zeros((img.shape[0], img.shape[1]))\n",
        "\n",
        "  for row in range(len(image)):\n",
        "    for col in range(len(image[row])):\n",
        "      g[row][col] = np.average(img[row][col])\n",
        "\n",
        "  return g\n",
        "\n",
        "# make gray image, and translate to binary\n",
        "def scale(img):\n",
        "  blur = 0.8\n",
        "\n",
        "  img = ndimage.gaussian_filter(img, blur)\n",
        "\n",
        "  t = threshold_otsu(img)\n",
        "  binary = img > t\n",
        "  binary = np.logical_not(binary)\n",
        "  return binary\n"
      ],
      "metadata": {
        "id": "IzzWhd3GCt0f"
      },
      "execution_count": 17,
      "outputs": []
    },
    {
      "cell_type": "code",
      "source": [
        "# pre process the binary image\n",
        "\n",
        "def process_img(path, img=None, display=True):\n",
        "\n",
        "  if img is None:\n",
        "    img = mpimg.imread(path) # use matplotlib to read img into array\n",
        "\n",
        "  if display == True:\n",
        "    plt.imshow(img)\n",
        "    plt.show()\n",
        "  grey = convertcolor(img)\n",
        "  if display:\n",
        "    plt.imshow(grey, cmap = matplotlib.cm.Greys_r)\n",
        "    plt.show()\n",
        "\n",
        "  row, col = np.where(bin == 1)\n",
        "\n",
        "  sign = bin[row.min(): row.max(), col.min(), col.max()]\n",
        "\n",
        "  if display:\n",
        "    plt.imshow(sign, cmap = matplotlib.cm.Greys_r)\n",
        "    plt.show()\n",
        "  return sign"
      ],
      "metadata": {
        "id": "uxdC8IkyHMuf"
      },
      "execution_count": 18,
      "outputs": []
    },
    {
      "cell_type": "code",
      "source": [
        "# get features\n",
        "\n",
        "def Ratio(img):\n",
        "  a = 0\n",
        "\n",
        "  for row in range(len(img)):\n",
        "    for col in range(len(img[0])):\n",
        "      if img[row][col]:\n",
        "        a = a + 1\n",
        "  total = img.shape[0] * img.shape[1]\n",
        "\n",
        "  return a / total"
      ],
      "metadata": {
        "id": "BVmcSBQpORSR"
      },
      "execution_count": 19,
      "outputs": []
    },
    {
      "cell_type": "code",
      "source": [
        "# get centroid\n",
        "\n",
        "def Centroid(img):\n",
        "  num = 0\n",
        "\n",
        "  a = np.array([0,0])\n",
        "  for row in range(len(img)):\n",
        "    for col in range(len(img[0])):\n",
        "      if img[row][col]:\n",
        "        b = np.array([row, col])\n",
        "        a = np.add(a, b)\n",
        "        num += 1\n",
        "\n",
        "  rc = np.array([img.shape[0], img.shape[1]])\n",
        "\n",
        "  centroid = a / num\n",
        "  centroid = centroid / rc\n",
        "\n",
        "  return centroid[0], centroid[1]\n"
      ],
      "metadata": {
        "id": "GYvI8perP41E"
      },
      "execution_count": 20,
      "outputs": []
    },
    {
      "cell_type": "code",
      "source": [
        "def eccentricitysolidity(img):\n",
        "  r = regionprops(img.astype('int8'))\n",
        "\n",
        "  return r[0].eccentricity, r[0].solidity"
      ],
      "metadata": {
        "id": "XsBlNQ2fQ2Yi"
      },
      "execution_count": 21,
      "outputs": []
    },
    {
      "cell_type": "code",
      "source": [
        "# analyze the skewing of data\n",
        "\n",
        "def SkewKurtosis(img):\n",
        "  h, w = img.shape\n",
        "  x = range(w)\n",
        "  y = range(h)\n",
        "\n",
        "  # projections on x & y axes\n",
        "  xp = np.sum(img, axis=0)\n",
        "  yp = np.sum(img, axis=1)\n",
        "\n",
        "  # centroid\n",
        "  cx = np.sum(x*xp) / np.sum(xp)\n",
        "  cy = np.sum(y*yp) / np.sum(yp)\n",
        "\n",
        "  #st dev\n",
        "  x2 = (x - cx)**2\n",
        "  y2 = (y - cy)**2\n",
        "\n",
        "  sx = np.sqrt(np.sum(x2*xp)/np.sum(img))\n",
        "  sy = np.sqrt(np.sum(y2*yp)/np.sum(img))\n",
        "\n",
        "  #skew\n",
        "\n",
        "  x3 = (x - cx) ** 3\n",
        "  y3 = (y - cy) ** 3\n",
        "\n",
        "  skewx = np.sum(xp * x3) / (np.sum(img) * sx**3)\n",
        "  skewy = np.sum(yp * y3) / (np.sum(img) * sy**3)\n",
        "\n",
        "  # Kurtosis\n",
        "  x4 = (x - cx) ** 4\n",
        "  y4 = (y - cy) ** 4\n",
        "\n",
        "  # normal distribution\n",
        "\n",
        "  kurtx = np.sum(xp*x4) / (np.sum(img) * sx**4) - 3\n",
        "  kurty = np.sum(yp*y4) / (np.sum(img) * sy**4) - 3\n",
        "\n",
        "  return (skewx, skewy), (kurx, kurty)"
      ],
      "metadata": {
        "id": "DVAJR69nRUDb"
      },
      "execution_count": 22,
      "outputs": []
    },
    {
      "cell_type": "code",
      "source": [
        "def GetFeatures(path, img=None, display=False):\n",
        "  if img is None:\n",
        "    img = mpimg.imread(path)\n",
        "  img = process_img(path, display=display)\n",
        "  ratio = Ratio(img)\n",
        "  centroid = Centroid(img)\n",
        "  eccentricity, solidity = eccentricitysolidity(img)\n",
        "  skewness, kurtosis = SkewKurtosis(img)\n",
        "  retVal = (ratio, centroid, eccentricity, solidity, skewness, kurtosis)\n",
        "\n",
        "  return retVal"
      ],
      "metadata": {
        "id": "6HQVQRBrTHfN"
      },
      "execution_count": 23,
      "outputs": []
    },
    {
      "cell_type": "code",
      "source": [
        "def CSVFeatures(path, img=None, display=False):\n",
        "  if img is None:\n",
        "    img = mpimg.imread(path)\n",
        "\n",
        "  temp = GetFeatures(path, display=display)\n",
        "\n",
        "  features = (temp[0], temp[1][0])\n",
        "\n",
        "  return features"
      ],
      "metadata": {
        "id": "8AkhZ_S1Ttl9"
      },
      "execution_count": 24,
      "outputs": []
    },
    {
      "cell_type": "code",
      "source": [
        "#save feature\n",
        "\n",
        "def makeCSV():\n",
        "  drive.mount('/content/drive')\n",
        "\n",
        "  features_path = '/content/drive/My Drive/elink-CSE30124-Fall2023-submissions/Final Project/Features'\n",
        "  training_path = '/content/drive/My Drive/elink-CSE30124-Fall2023-submissions/Final Project/Features/Training'\n",
        "  testing_path  = '/content/drive/My Drive/elink-CSE30124-Fall2023-submissions/Final Project/Features/Testing'\n",
        "\n",
        "  if not os.path.exists(features_path):\n",
        "    # If the folder doesn't exist, create it\n",
        "    os.makedirs(features_path)\n",
        "  if not os.path.exists(training_path):\n",
        "    # If the folder doesn't exist, create it\n",
        "    os.makedirs(training_path)\n",
        "  if not os.path.exists(testing_path):\n",
        "    # If the folder doesn't exist, create it\n",
        "    os.makedirs(testing_path)\n",
        "\n",
        "\n",
        "  # real signatures\n",
        "  gpath = real_sigs\n",
        "  fpath = forged_sigs\n",
        "\n",
        "  for person in range(1, 4):\n",
        "    per = ('00'+str(person))[-3:]\n",
        "    print('Saving features for person id-', per)\n",
        "\n",
        "    with open('training url') as handle:\n",
        "      handle.write('ratio,cent_y,cent_x,eccentricity,solidity,skew_x,skew_y,kurt_x,kurt_y,output\\n')\n",
        "      for i in range(0,3):\n",
        "        source = os.path.join(gpath, per+per+'_00'+str(i)+'.png')\n",
        "        features = CSVFeatures(path=source)\n",
        "        handle.write(','.join(map(str, features))+',0\\n')\n",
        "      for i in range(0,3):\n",
        "        source = os.path.join(fpath, '021'+per+'_00'+str(i)+'.png')\n",
        "        features = getCSVFeatures(path=source)\n",
        "        handle.write(','.join(map(str, features))+',0\\n')\n",
        "\n",
        "      with open('url...'):\n",
        "        handle.write('ratio,cent_y,cent_x,eccentricity,solidity,skew_x,skew_y,kurt_x,kurt_y,output\\n')\n",
        "        for i in range(3, 5):\n",
        "          source = os.path.join(gpath, per+per+'_00'+str(i)+'.png')\n",
        "          features = getCSVFeatures(path=source)\n",
        "          handle.write(','.join(map(str, features))+',1\\n')\n",
        "        for i in range(3,5):\n",
        "          source = os.path.join(fpath, '021'+per+'_00'+str(i)+'.png')\n",
        "          features = getCSVFeatures(path=source)\n",
        "          handle.write(','.join(map(str, features))+',0\\n')\n",
        "\n",
        "\n"
      ],
      "metadata": {
        "id": "BizrrTUhUzL3"
      },
      "execution_count": 33,
      "outputs": []
    },
    {
      "cell_type": "code",
      "source": [
        "def testing(path):\n",
        "  feature = CSVFeatures(path)\n",
        "  if not(os.path.exists('path...')):\n",
        "    os.mkdir('dir...')\n",
        "\n",
        "  with open('path...') as handle:\n",
        "    handle.write('ratio,cent_y,cent_x,eccentricity,solidity,skew_x,skew_y,kurt_x,kurt_y\\n')\n",
        "    handle.write(','.join(map(str, feature))+'\\n')"
      ],
      "metadata": {
        "id": "5n4fywDae7dz"
      },
      "execution_count": null,
      "outputs": []
    },
    {
      "cell_type": "code",
      "source": [
        "n_input = 9\n",
        "train_person_id = input(\"Enter person's id: \")\n",
        "test_image_path = input(\"Ener path of signature image: \")\n",
        "train_path = '....'\n",
        "testing(tes_image_path)\n",
        "test_path = '...'\n",
        "\n",
        "def readCSV(train_path, test_path, type2=False):\n",
        "  df = pd.read_csv(train_path, usecols=range(n_input))\n",
        "  train_input = np.array(df.values)\n",
        "  train_input = train_input.astype(np.float32, copy=False)\n",
        "  df = pd.read_csv(train_path, usecols=(n_input,))\n",
        "  temp = [elem[0] for elem in df.values]\n",
        "  correct = np.array(temp)\n",
        "  corr_train = keras.utils.to_categorical(correct, 2)\n",
        "\n",
        "  df = pd.read_csv(test_path, usecols=range(n_input))\n",
        "  test_input = np.array(df.values)\n",
        "  test_input = test_input.astype(np.float32, copy=False)\n",
        "  if not(type2):\n",
        "    df = pd.read_csv(test_path, usecols=(n_in))"
      ],
      "metadata": {
        "id": "u-Y_U9IagmN4"
      },
      "execution_count": null,
      "outputs": []
    }
  ]
}